{
 "cells": [
  {
   "cell_type": "code",
   "execution_count": 28,
   "metadata": {
    "scrolled": true
   },
   "outputs": [
    {
     "name": "stdout",
     "output_type": "stream",
     "text": [
      "no\n",
      "no\n",
      "no\n",
      "no\n"
     ]
    },
    {
     "name": "stderr",
     "output_type": "stream",
     "text": [
      "\n",
      "KeyboardInterrupt\n",
      "\n"
     ]
    }
   ],
   "source": [
    "from theguardian import theguardian_content\n",
    "import numpy as np\n",
    "key ='abf4fc31-47fd-4874-97ac-b72b5675445a'#'abdfe2b6-4e7d-4620-97a2-d6626e0a5e06'#'24eb0297-0cea-46d5-a19a-373bbf13ec70'#'36946fb1-e3f7-4000-8807-79512d18594f'#'24eb0297-0cea-46d5-a19a-373bbf13ec70'#'820a4336-82b4-4c70-9471-176eaa7e561b'#'24eb0297-0cea-46d5-a19a-373bbf13ec70'# # '36946fb1-e3f7-4000-8807-79512d18594f' #'a6dd079e-f444-4faf-865e-fb3edc9d533c'# #'\n",
    "# inflation '(rates AND interest)' 'bonds','fed federal (federal AND rate)',   '(monetary AND policy)', '(central AND bank)', '(quantitative AND easing)'\n",
    "for word in ['(quantitative AND easing)' ]:\n",
    "\n",
    "    # create content\n",
    "    headers = {\n",
    "        \"q\": word,\n",
    "        'section' : 'Business'\n",
    "        \"from-date\": \"2007-01-01\",\n",
    "        \n",
    "        \"order-by\": \"newest\",\n",
    "\n",
    "    }\n",
    "    content = theguardian_content.Content(api=key, **headers)\n",
    "\n",
    "    # looping through pages\n",
    "    passer = False\n",
    "    while passer == False : \n",
    "        try : \n",
    "            response_headers = content.response_headers()\n",
    "            passer = True\n",
    "        except KeyError : \n",
    "            print('no')\n",
    "            pass\n",
    "    total_pages = response_headers[\"pages\"]\n",
    "\n",
    "    # print apiUrls for all the results in first 5 pages\n",
    "    required_pages = total_pages\n",
    "    required_urls = []\n",
    "\n",
    "\n",
    "    content2 = theguardian_content.Content(api=key, **headers)\n",
    "    pageinit = 1\n",
    "    pageinit_pass = 0\n",
    "    print('total',total_pages)\n",
    "    count = 0\n",
    "    while pageinit < required_pages-1 and (count < 100) :\n",
    "        for page in range(pageinit, required_pages):\n",
    "                res = content2.get_content_response(headers={\"page\": page})\n",
    "                try : \n",
    "                    page_results = res['response']['results']\n",
    "                    for result in page_results:\n",
    "                        required_urls.append(result)\n",
    "                except KeyError: \n",
    "                    pageinit_pass = pageinit\n",
    "                    pageinit = page\n",
    "                    if pageinit==pageinit_pass:\n",
    "                        count+=1\n",
    "                    print(pageinit)\n",
    "                    break\n",
    "    np.save('url7'+word+'.npy',required_urls)\n",
    "\n",
    "\n",
    "\n"
   ]
  },
  {
   "cell_type": "code",
   "execution_count": 23,
   "metadata": {},
   "outputs": [
    {
     "data": {
      "text/plain": [
       "'(quantitative AND easing)'"
      ]
     },
     "execution_count": 23,
     "metadata": {},
     "output_type": "execute_result"
    }
   ],
   "source": [
    "word"
   ]
  },
  {
   "cell_type": "code",
   "execution_count": 19,
   "metadata": {},
   "outputs": [
    {
     "data": {
      "text/plain": [
       "795"
      ]
     },
     "execution_count": 19,
     "metadata": {},
     "output_type": "execute_result"
    }
   ],
   "source": [
    "total_pages"
   ]
  },
  {
   "cell_type": "code",
   "execution_count": 24,
   "metadata": {},
   "outputs": [
    {
     "data": {
      "text/plain": [
       "149590"
      ]
     },
     "execution_count": 24,
     "metadata": {},
     "output_type": "execute_result"
    }
   ],
   "source": [
    "len(required_urls)"
   ]
  },
  {
   "cell_type": "code",
   "execution_count": 25,
   "metadata": {
    "scrolled": true
   },
   "outputs": [
    {
     "data": {
      "text/plain": [
       "{'id': 'business/2012/sep/11/ben-bernanke-us-economy-federal-reserve',\n",
       " 'type': 'article',\n",
       " 'sectionId': 'business',\n",
       " 'sectionName': 'Business',\n",
       " 'webPublicationDate': '2012-09-11T15:46:00Z',\n",
       " 'webTitle': 'Ben Bernanke expected to take further action on US economy as Fed meets',\n",
       " 'webUrl': 'https://www.theguardian.com/business/2012/sep/11/ben-bernanke-us-economy-federal-reserve',\n",
       " 'apiUrl': 'https://content.guardianapis.com/business/2012/sep/11/ben-bernanke-us-economy-federal-reserve',\n",
       " 'isHosted': False,\n",
       " 'pillarId': 'pillar/news',\n",
       " 'pillarName': 'News'}"
      ]
     },
     "execution_count": 25,
     "metadata": {},
     "output_type": "execute_result"
    }
   ],
   "source": [
    "required_urls[-1]"
   ]
  },
  {
   "cell_type": "code",
   "execution_count": 19,
   "metadata": {},
   "outputs": [],
   "source": [
    "r=np.load('url7'+'inflation'+'.npy')"
   ]
  },
  {
   "cell_type": "code",
   "execution_count": 20,
   "metadata": {},
   "outputs": [
    {
     "data": {
      "text/plain": [
       "149970"
      ]
     },
     "execution_count": 20,
     "metadata": {},
     "output_type": "execute_result"
    }
   ],
   "source": [
    "len(r)"
   ]
  },
  {
   "cell_type": "code",
   "execution_count": 24,
   "metadata": {},
   "outputs": [
    {
     "data": {
      "text/plain": [
       "{'id': 'environment/2011/jul/02/supermarkets-derail-bill-protect-suppliers',\n",
       " 'type': 'article',\n",
       " 'sectionId': 'environment',\n",
       " 'sectionName': 'Environment',\n",
       " 'webPublicationDate': '2011-07-02T18:35:19Z',\n",
       " 'webTitle': 'Supermarkets set to derail bill to protect suppliers',\n",
       " 'webUrl': 'https://www.theguardian.com/environment/2011/jul/02/supermarkets-derail-bill-protect-suppliers',\n",
       " 'apiUrl': 'https://content.guardianapis.com/environment/2011/jul/02/supermarkets-derail-bill-protect-suppliers',\n",
       " 'isHosted': False,\n",
       " 'pillarId': 'pillar/news',\n",
       " 'pillarName': 'News'}"
      ]
     },
     "execution_count": 24,
     "metadata": {},
     "output_type": "execute_result"
    }
   ],
   "source": [
    "r[-4]"
   ]
  },
  {
   "cell_type": "code",
   "execution_count": 7,
   "metadata": {},
   "outputs": [
    {
     "data": {
      "text/plain": [
       "'(quantitative AND easing)'"
      ]
     },
     "execution_count": 7,
     "metadata": {},
     "output_type": "execute_result"
    }
   ],
   "source": [
    "word"
   ]
  },
  {
   "cell_type": "code",
   "execution_count": null,
   "metadata": {},
   "outputs": [],
   "source": []
  }
 ],
 "metadata": {
  "kernelspec": {
   "display_name": "Python 3",
   "language": "python",
   "name": "python3"
  },
  "language_info": {
   "codemirror_mode": {
    "name": "ipython",
    "version": 3
   },
   "file_extension": ".py",
   "mimetype": "text/x-python",
   "name": "python",
   "nbconvert_exporter": "python",
   "pygments_lexer": "ipython3",
   "version": "3.6.5"
  }
 },
 "nbformat": 4,
 "nbformat_minor": 2
}
