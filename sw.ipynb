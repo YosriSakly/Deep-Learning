{
 "cells": [
  {
   "cell_type": "code",
   "execution_count": null,
   "metadata": {},
   "outputs": [
    {
     "name": "stdout",
     "output_type": "stream",
     "text": [
      "\n",
      "Thu May 16 13:56:03 2019\n",
      "ND_SRAF:  Program EDGAR_DownloadForms.py\n",
      "\n",
      "Path: C:\\Users\\saklo\\Downloads\\sentiment_files\\\\1997\\QTR1\\ created\n",
      "download_masterindex:  1997:1 | len() = 91,096 | Time = 3.1304 seconds\n",
      "Sleeping: 2019-05-16 14:16:06.934685"
     ]
    }
   ],
   "source": [
    "\"\"\"\n",
    "    Program to download EDGAR files by form type\n",
    "    ND-SRAF / McDonald : 201606\n",
    "    https://sraf.nd.edu\n",
    "    Dependencies (i.e., modules you must already have downloaded)\n",
    "      EDGAR_Forms.py\n",
    "      EDGAR_Pac.py\n",
    "      General_Utilities.py\n",
    "\"\"\"\n",
    "\n",
    "import os\n",
    "import time\n",
    "import sys\n",
    "# Modify the following statement to identify the path for local modules\n",
    "# sys.path.append('D:\\GD\\Python\\TextualAnalysis\\Modules')\n",
    "# Since these imports are dynamically mapped your IDE might flag an error...it's OK\n",
    "import EDGAR_Forms  # This module contains some predefined form groups\n",
    "import EDGAR_Pac\n",
    "import General_Utilities\n",
    "\n",
    "\n",
    "# * * * * * * * * * * * * * * * * * * * * * * * * * * * * * * * * * * * * * * * * * * +\n",
    "\n",
    "#  NOTES\n",
    "#        The EDGAR archive contains millions of forms.\n",
    "#        For details on accessing the EDGAR servers see:\n",
    "#          https://www.sec.gov/edgar/searchedgar/accessing-edgar-data.htm\n",
    "#        From that site:\n",
    "#            \"To preserve equitable server access, we ask that bulk FTP\n",
    "#             transfer requests be performed between 9 PM and 6 AM Eastern \n",
    "#             time. Please use efficient scripting, downloading only what you\n",
    "#             need and space out requests to minimize server load.\"\n",
    "#        Note that the program will check the clock every 10 minutes and only\n",
    "#            download files during the appropriate time.\n",
    "#        Be a good citizen...keep your requests targeted.\n",
    "#\n",
    "#        For large downloads you will sometimes get a hiccup in the server\n",
    "#            and the file request will fail.  These errs are documented in\n",
    "#            the log file.  You can manually download those files that fail.\n",
    "#            Although I attempt to work around server errors, if the SEC's server\n",
    "#            is sufficiently busy, you might have to try another day.\n",
    "#\n",
    "#       For a list of form types and counts by year:\n",
    "#         \"All SEC EDGAR Filings by Type and Year\"\n",
    "#          at https://sraf.nd.edu/textual-analysis/resources/#All%20SEC%20EDGAR%20Filings%20by%20Type%20and%20Year\n",
    "\n",
    "\n",
    "# -----------------------\n",
    "# User defined parameters\n",
    "# -----------------------\n",
    "\n",
    "# List target forms as strings separated by commas (case sensitive) or\n",
    "#   load from EDGAR_Forms.  (See EDGAR_Forms module for predefined lists.)\n",
    "PARM_FORMS = EDGAR_Forms.f_10X  # or, for example, PARM_FORMS = ['8-K', '8-K/A']\n",
    "PARM_BGNYEAR = 1997  # User selected bgn period.  Earliest available is 1994\n",
    "PARM_ENDYEAR = 2000  # User selected end period.\n",
    "PARM_BGNQTR = 1  # Beginning quarter of each year\n",
    "PARM_ENDQTR = 4  # Ending quarter of each year\n",
    "# Path where you will store the downloaded files\n",
    "\n",
    "PARM_PATH = r'C:\\Users\\saklo\\Downloads\\sentiment_files\\\\'\n",
    "\n",
    "# Change the file pointer below to reflect your location for the log file\n",
    "#    (directory must already exist)\n",
    "\n",
    "PARM_LOGFILE = (r'C:\\Users\\saklo\\Downloads\\sentiment_files' +\n",
    "                str(PARM_BGNYEAR) + '-' + str(PARM_ENDYEAR) + '.txt')\n",
    "\n",
    "# EDGAR parameter\n",
    "\n",
    "PARM_EDGARPREFIX = 'https://www.sec.gov/Archives/'\n",
    "\n",
    "\n",
    "#\n",
    "# * * * * * * * * * * * * * * * * * * * * * * * * * * * * * * * * * * * * * * * * * * +\n",
    "\n",
    "\n",
    "def download_forms():\n",
    "\n",
    "    # Download each year/quarter master.idx and save record for requested forms\n",
    "    f_log = open(PARM_LOGFILE, 'a')\n",
    "    f_log.write('BEGIN LOOPS:  {0}\\n'.format(time.strftime('%c')))\n",
    "    n_tot = 0\n",
    "    n_errs = 0\n",
    "    for year in range(PARM_BGNYEAR, PARM_ENDYEAR + 1):\n",
    "        for qtr in range(PARM_BGNQTR, PARM_ENDQTR + 1):\n",
    "            startloop = time.clock()\n",
    "            n_qtr = 0\n",
    "            file_count = {}\n",
    "            # Setup output path\n",
    "            path = '{0}{1}\\\\QTR{2}\\\\'.format(PARM_PATH, str(year), str(qtr))\n",
    "            if not os.path.exists(path):\n",
    "                os.makedirs(path)\n",
    "                print('Path: {0} created'.format(path))\n",
    "            masterindex = EDGAR_Pac.download_masterindex(year, qtr, True)\n",
    "            if masterindex:\n",
    "                for item in masterindex:\n",
    "                    while EDGAR_Pac.edgar_server_not_available(True):  # kill time when server not available\n",
    "                        pass\n",
    "                    if item.form in PARM_FORMS:\n",
    "                        n_qtr += 1\n",
    "                        # Keep track of filings and identify duplicates\n",
    "                        fid = str(item.cik) + str(item.filingdate) + item.form\n",
    "                        if fid in file_count:\n",
    "                            file_count[fid] += 1\n",
    "                        else:\n",
    "                            file_count[fid] = 1\n",
    "                        # Setup EDGAR URL and output file name\n",
    "                        url = PARM_EDGARPREFIX + item.path\n",
    "                        fname = (path + str(item.filingdate) + '_' + item.form.replace('/', '-') + '_' +\n",
    "                                 item.path.replace('/', '_'))\n",
    "                        fname = fname.replace('.txt', '_' + str(file_count[fid]) + '.txt')\n",
    "                        return_url = General_Utilities.download_to_file(url, fname, f_log)\n",
    "                        if return_url:\n",
    "                            n_errs += 1\n",
    "                        n_tot += 1\n",
    "                        # time.sleep(1)  # Space out requests\n",
    "            print(str(year) + ':' + str(qtr) + ' -> {0:,}'.format(n_qtr) + ' downloads completed.  Time = ' +\n",
    "                  time.strftime('%H:%M:%S', time.gmtime(time.clock() - startloop)) +\n",
    "                  ' | ' + time.strftime('%c'))\n",
    "            f_log.write('{0} | {1} | n_qtr = {2:>8,} | n_tot = {3:>8,} | n_err = {4:>6,} | {5}\\n'.\n",
    "                        format(year, qtr, n_qtr, n_tot, n_errs, time.strftime('%c')))\n",
    "\n",
    "            f_log.flush()\n",
    "\n",
    "    print('{0:,} total forms downloaded.'.format(n_tot))\n",
    "    f_log.write('\\n{0:,} total forms downloaded.'.format(n_tot))\n",
    "\n",
    "\n",
    "if __name__ == '__main__':\n",
    "    start = time.clock()\n",
    "    print('\\n' + time.strftime('%c') + '\\nND_SRAF:  Program EDGAR_DownloadForms.py\\n')\n",
    "    download_forms()\n",
    "    print('\\nEDGAR_DownloadForms.py | Normal termination | ' +\n",
    "          time.strftime('%H:%M:%S', time.gmtime(time.clock() - start)))\n",
    "    print(time.strftime('%c'))\n"
   ]
  },
  {
   "cell_type": "code",
   "execution_count": 47,
   "metadata": {},
   "outputs": [],
   "source": [
    "import os\n",
    "files = []\n",
    "path = 'stopwords/'\n",
    "for i in os.listdir(path):\n",
    "    if i.endswith('.txt'):\n",
    "         with open(path+i, 'rt') as fd:\n",
    "                wordss = fd.readlines()\n",
    "                wordss = [x.strip().lower() for x in wordss]\n",
    "                for word in wordss:\n",
    "                    files.append(word)"
   ]
  },
  {
   "cell_type": "code",
   "execution_count": 57,
   "metadata": {},
   "outputs": [],
   "source": []
  },
  {
   "cell_type": "code",
   "execution_count": 66,
   "metadata": {},
   "outputs": [],
   "source": [
    "from nltk.corpus import stopwords \n",
    "stop_words.extend(list(set(stopwords.words('english'))))"
   ]
  },
  {
   "cell_type": "code",
   "execution_count": 67,
   "metadata": {},
   "outputs": [],
   "source": [
    "from nltk.corpus import stopwords \n",
    "from nltk.tokenize import word_tokenize \n",
    "  \n",
    "example_sent = \"Tunisia Industrial Output Shrinks for 7th Straight Month\"\n",
    "\n",
    "word_tokens = word_tokenize(example_sent) \n",
    "  \n",
    "filtered_sentence = [w.lower() for w in word_tokens if not w.lower() in stop_words] \n",
    "  "
   ]
  },
  {
   "cell_type": "code",
   "execution_count": null,
   "metadata": {},
   "outputs": [],
   "source": []
  },
  {
   "cell_type": "code",
   "execution_count": 68,
   "metadata": {},
   "outputs": [
    {
     "data": {
      "text/plain": [
       "['tunisia', 'industrial', 'output', 'shrinks', '7th']"
      ]
     },
     "execution_count": 68,
     "metadata": {},
     "output_type": "execute_result"
    }
   ],
   "source": [
    "filtered_sentence"
   ]
  },
  {
   "cell_type": "code",
   "execution_count": 69,
   "metadata": {},
   "outputs": [
    {
     "data": {
      "text/plain": [
       "False"
      ]
     },
     "execution_count": 69,
     "metadata": {},
     "output_type": "execute_result"
    }
   ],
   "source": [
    "'tunisia' in stop_words"
   ]
  },
  {
   "cell_type": "code",
   "execution_count": null,
   "metadata": {},
   "outputs": [],
   "source": []
  }
 ],
 "metadata": {
  "kernelspec": {
   "display_name": "Python 3",
   "language": "python",
   "name": "python3"
  },
  "language_info": {
   "codemirror_mode": {
    "name": "ipython",
    "version": 3
   },
   "file_extension": ".py",
   "mimetype": "text/x-python",
   "name": "python",
   "nbconvert_exporter": "python",
   "pygments_lexer": "ipython3",
   "version": "3.6.5"
  }
 },
 "nbformat": 4,
 "nbformat_minor": 2
}
