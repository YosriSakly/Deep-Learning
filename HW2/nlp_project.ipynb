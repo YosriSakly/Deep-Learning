{
 "cells": [
  {
   "cell_type": "markdown",
   "metadata": {},
   "source": [
    "# Deep Learning for NLP - Project"
   ]
  },
  {
   "cell_type": "markdown",
   "metadata": {},
   "source": [
    "RULES:\n",
    "\n",
    "* Do not create any additional cell\n",
    "\n",
    "* Fill in the blanks\n",
    "\n",
    "* All cells should be runnable (modulo trivial compatibility bugs that we'd fix)\n",
    "\n",
    "* 4 / 20 points will be allocated to the clarity of your code\n",
    "\n",
    "* Efficient code will have a bonus\n",
    "\n",
    "DELIVERABLE:\n",
    "\n",
    "* this notebook\n",
    "* the predictions of the SST test set\n",
    "\n",
    "DO NOT INCLUDE THE DATASETS IN THE DELIVERABLE.."
   ]
  },
  {
   "cell_type": "code",
   "execution_count": 1,
   "metadata": {},
   "outputs": [],
   "source": [
    "import io\n",
    "import os\n",
    "import numpy as np\n",
    "import scipy"
   ]
  },
  {
   "cell_type": "code",
   "execution_count": 2,
   "metadata": {},
   "outputs": [],
   "source": [
    "PATH_TO_DATA = r\"./data/\""
   ]
  },
  {
   "cell_type": "markdown",
   "metadata": {},
   "source": [
    "# 1) Monolingual (English) word embeddings "
   ]
  },
  {
   "cell_type": "code",
   "execution_count": 3,
   "metadata": {},
   "outputs": [],
   "source": [
    "class Word2vec():\n",
    "    def __init__(self, fname, nmax=100000):\n",
    "        self.load_wordvec(fname, nmax)\n",
    "        #self.word2id = dict.fromkeys(self.word2vec.keys())\n",
    "        self.word2id = {item:i for i, item in enumerate(self.word2vec.keys())}\n",
    "        self.id2word = {v: k for k, v in self.word2id.items()}\n",
    "        self.embeddings = np.array(self.word2vec.values())\n",
    "    \n",
    "    def load_wordvec(self, fname, nmax):\n",
    "        self.word2vec = {}\n",
    "        with io.open(fname, encoding='utf-8') as f:\n",
    "            next(f)\n",
    "            for i, line in enumerate(f):\n",
    "                word, vec = line.split(' ', 1)\n",
    "                self.word2vec[word] = np.fromstring(vec, sep=' ')\n",
    "                if i == (nmax - 1):\n",
    "                    break\n",
    "        print('Loaded %s pretrained word vectors' % (len(self.word2vec)))\n",
    "\n",
    "    def most_similar(self, w, K=5):\n",
    "        # K most similar words: self.score  -  np.argsort \n",
    "        if type(w)==str:\n",
    "            similar = [self.score(self.word2vec[w], self.word2vec[self.id2word[i]]) for i in range(len(self.word2id))]\n",
    "        else:\n",
    "            similar = [self.score(w, self.word2vec[self.id2word[i]]) for i in range(len(self.word2id))]\n",
    "        closest = np.argsort(similar)[::-1][:K]\n",
    "        results = [self.id2word[i] for i in closest]\n",
    "        return results\n",
    "\n",
    "    def score(self, w1, w2):\n",
    "        # cosine similarity: np.dot  -  np.linalg.norm\n",
    "        if type(w1)==str:\n",
    "            emb1 = self.word2vec[w1]\n",
    "            emb2 = self.word2vec[w2]\n",
    "        else:\n",
    "            emb1 = w1\n",
    "            emb2 = w2\n",
    "        \n",
    "        score = np.dot(emb1, emb2)  / (np.linalg.norm(emb1)*np.linalg.norm(emb2))\n",
    "        return score\n",
    "        \n"
   ]
  },
  {
   "cell_type": "code",
   "execution_count": 4,
   "metadata": {},
   "outputs": [
    {
     "name": "stdout",
     "output_type": "stream",
     "text": [
      "Loaded 200000 pretrained word vectors\n",
      "cat dog 0.671683666279249\n",
      "dog pet 0.6842064029669219\n",
      "dogs cats 0.7074389328052403\n",
      "paris france 0.7775108541288561\n",
      "germany berlin 0.7420295235998392\n",
      "['cat', 'cats', 'kitty', 'kitten', 'feline']\n",
      "['dog', 'dogs', 'puppy', 'Dog', 'doggie']\n",
      "['dogs', 'dog', 'pooches', 'Dogs', 'doggies']\n",
      "['paris', 'france', 'Paris', 'parisian', 'london']\n",
      "['germany', 'austria', 'europe', 'german', 'berlin']\n"
     ]
    }
   ],
   "source": [
    "w2v = Word2vec(os.path.join(PATH_TO_DATA, 'crawl-300d-200k.vec'), nmax=250000)\n",
    "\n",
    "# You will be evaluated on the output of the following:\n",
    "for w1, w2 in zip(('cat', 'dog', 'dogs', 'paris', 'germany'), ('dog', 'pet', 'cats', 'france', 'berlin')):\n",
    "    print(w1, w2, w2v.score(w1, w2))\n",
    "for w1 in ['cat', 'dog', 'dogs', 'paris', 'germany']:\n",
    "    print(w2v.most_similar(w1))"
   ]
  },
  {
   "cell_type": "code",
   "execution_count": 5,
   "metadata": {},
   "outputs": [],
   "source": [
    "class BoV():\n",
    "    def __init__(self, w2v):\n",
    "        self.w2v = w2v\n",
    "    \n",
    "    def encode(self, sentences, idf=False):\n",
    "        # takes a list of sentences, outputs a numpy array of sentence embeddings\n",
    "        # see TP1 for help\n",
    "        sentemb = []\n",
    "        idf_dic=idf\n",
    "        for sent in sentences:\n",
    "            if idf is False:\n",
    "                # mean of word vectors\n",
    "                list_of_embeddings = [self.w2v.word2vec[w] for w in sent if w in w2v.word2vec]\n",
    "                if len(list_of_embeddings)!=0:\n",
    "                    sentemb.append(np.mean(list_of_embeddings, axis=0))\n",
    "                    \n",
    "                else:\n",
    "                    #no word is in the lookup table\n",
    "                    sentemb.append(np.zeros(list(self.w2v.word2vec.values())[0].shape))\n",
    "                   \n",
    "                #assert False, 'TODO: fill in the blank'\n",
    "            else:\n",
    "                # idf-weighted mean of word vectors\n",
    "                list_of_embeddings = [idf_dic[w]*self.w2v.word2vec[w] for w in sent if w in w2v.word2vec]\n",
    "                if len(list_of_embeddings)!=0: \n",
    "                    sentemb.append(np.mean(list_of_embeddings, axis=0))\n",
    "                else:\n",
    "                    #no word is in the lookup table\n",
    "                    sentemb.append(np.zeros(list(self.w2v.word2vec.values())[0].shape))\n",
    "\n",
    "                   \n",
    "                #assert False, 'TODO: fill in the blank'\n",
    "        return np.vstack(sentemb)\n",
    "\n",
    "    def most_similar(self, s, sentences, idf=False, K=5):\n",
    "        # get most similar sentences and **print** them\n",
    "        keys = self.encode(sentences, idf)\n",
    "        query = self.encode([s], idf)\n",
    "        \n",
    "        scores = np.dot(keys, query.T)\n",
    "        scores /= np.reshape(np.linalg.norm(keys, axis=1), (-1,1))\n",
    "        index_similar_sent = list(np.argsort(scores[:,0])[::-1][:K])\n",
    "        \n",
    "        set_sent = []\n",
    "        print('%s most similar of \"%s\" are \\n' % (K, ' '.join(s)))\n",
    "        if max(scores)>0:\n",
    "            for i,ind in enumerate(index_similar_sent):\n",
    "                print('%s) %s' % (i + 1, ' '.join(sentences[ind])))\n",
    "                set_sent.append(sentences[ind])\n",
    "        else: \n",
    "            print ('The input sentence do not have wordsof the pretrained vocabulary')\n",
    "        return set_sent\n",
    "\n",
    "    def score(self, s1, s2, idf=False):\n",
    "        # cosine similarity: use   np.dot  and  np.linalg.norm\n",
    "        emb1 = self.encode([s1], idf)\n",
    "        emb2 = self.encode([s2], idf)\n",
    "        if ((np.linalg.norm(emb1)!=0) and ((np.linalg.norm(emb2)!=0))):\n",
    "            return emb1.dot(emb2.T)/(np.linalg.norm(emb1)*np.linalg.norm(emb2))\n",
    "        else: \n",
    "            return 0\n",
    "    \n",
    "    def build_idf(self, sentences):\n",
    "        # build the idf dictionary: associate each word to its idf value\n",
    "        idf = {}\n",
    "        for sent in sentences:\n",
    "            for w in set(sent):\n",
    "                idf[w] = idf.get(w, 0) + 1        \n",
    "        for w in idf:\n",
    "            idf[w] = max(1, np.log10(len(sentences) / (idf[w])))\n",
    "        return idf"
   ]
  },
  {
   "cell_type": "code",
   "execution_count": 6,
   "metadata": {},
   "outputs": [
    {
     "name": "stdout",
     "output_type": "stream",
     "text": [
      "Loaded 10000 pretrained word vectors\n",
      "5 most similar of \"1 smiling african american boy .\" are \n",
      "\n",
      "1) 1 smiling african american boy .\n",
      "2) girl smiling on roller coaster .\n",
      "3) a boy smiles underwater .\n",
      "4) two girlfriends smiling .\n",
      "5) a smiling child swims .\n",
      "[[0.59360354]]\n",
      "\n",
      "\n",
      "\n",
      "5 most similar of \"1 smiling african american boy .\" are \n",
      "\n",
      "1) 1 smiling african american boy .\n",
      "2) 5 women and 1 man are smiling for the camera .\n",
      "3) 2 guys facing away from camera , 1 girl smiling at camera with blue shirt , 1 guy with a beverage with a jacket on .\n",
      "4) two girlfriends smiling .\n",
      "5) 1 man singing and 1 man playing a saxophone in a concert .\n",
      "[[0.50048646]]\n"
     ]
    }
   ],
   "source": [
    "w2v = Word2vec(os.path.join(PATH_TO_DATA, 'crawl-300d-200k.vec'), nmax=10000)\n",
    "s2v = BoV(w2v)\n",
    "\n",
    "# Load sentences in \"PATH_TO_DATA/sentences.txt\"\n",
    "with open(os.path.join(PATH_TO_DATA,'sentences.txt')) as fichier:\n",
    "    sentences = fichier.readlines()\n",
    "\n",
    "sentences = [sent.split() for sent in sentences]\n",
    "\n",
    "# Build idf scores for each word\n",
    "idf = {} if False else s2v.build_idf(sentences)\n",
    "\n",
    "# You will be evaluated on the output of the following:\n",
    "s2v.most_similar('' if not sentences else sentences[10], sentences)  # BoV-mean\n",
    "print(s2v.score('' if not sentences else sentences[7], '' if not sentences else sentences[13]))\n",
    "print('\\n\\n')\n",
    "\n",
    "#idf = {}  \n",
    "s2v.most_similar('' if not sentences else sentences[10], sentences, idf)  # BoV-idf\n",
    "print(s2v.score('' if not sentences else sentences[7], '' if not sentences else sentences[13], idf))"
   ]
  },
  {
   "cell_type": "markdown",
   "metadata": {},
   "source": [
    "# 2) Multilingual (English-French) word embeddings"
   ]
  },
  {
   "cell_type": "markdown",
   "metadata": {},
   "source": [
    "Let's consider a bilingual dictionary of size V_a (e.g French-English).\n",
    "\n",
    "Let's define **X** and **Y** the **French** and **English** matrices.\n",
    "\n",
    "They contain the embeddings associated to the words in the bilingual dictionary.\n",
    "\n",
    "We want to find a **mapping W** that will project the source word space (e.g French) to the target word space (e.g English).\n",
    "\n",
    "Procrustes : **W\\* = argmin || W.X - Y ||  s.t  W^T.W = Id**\n",
    "has a closed form solution:\n",
    "**W = U.V^T  where  U.Sig.V^T = SVD(Y.X^T)**\n",
    "\n",
    "In what follows, you are asked to: "
   ]
  },
  {
   "cell_type": "code",
   "execution_count": 7,
   "metadata": {},
   "outputs": [
    {
     "name": "stdout",
     "output_type": "stream",
     "text": [
      "Loaded 50000 pretrained word vectors\n",
      "Loaded 50000 pretrained word vectors\n"
     ]
    }
   ],
   "source": [
    "# 1 - Download and load 50k first vectors of\n",
    "#     https://s3-us-west-1.amazonaws.com/fasttext-vectors/wiki.en.vec\n",
    "#     https://s3-us-west-1.amazonaws.com/fasttext-vectors/wiki.fr.vec\n",
    "\n",
    "# TYPE CODE HERE\n",
    "w2v_en = Word2vec(os.path.join(PATH_TO_DATA, 'wiki.en.vec'), nmax=50000)\n",
    "w2v_fr = Word2vec(os.path.join(PATH_TO_DATA, 'wiki.fr.vec'), nmax=50000)\n",
    "\n"
   ]
  },
  {
   "cell_type": "code",
   "execution_count": 8,
   "metadata": {},
   "outputs": [
    {
     "name": "stdout",
     "output_type": "stream",
     "text": [
      "18970\n"
     ]
    }
   ],
   "source": [
    "# 2 - Get words that appear in both vocabs (= identical character strings)\n",
    "#     Use it to create the matrix X and Y (of aligned embeddings for these words)\n",
    "\n",
    "# TYPE CODE HERE\n",
    "intersect = [w for w in w2v_fr.word2vec if w in w2v_en.word2vec]\n",
    "X = np.vstack([w2v_en.word2vec[w] for w in intersect])\n",
    "Y = np.vstack([w2v_fr.word2vec[w] for w in intersect])\n",
    "print(len(intersect))"
   ]
  },
  {
   "cell_type": "code",
   "execution_count": 9,
   "metadata": {},
   "outputs": [],
   "source": [
    "# 3 - Solve the Procrustes using the scipy package and: scipy.linalg.svd() and get the optimal W\n",
    "#     Now W*French_vector is in the same space as English_vector\n",
    "\n",
    "# TYPE CODE HERE\n",
    "\n",
    "import scipy.linalg as la\n",
    "\n",
    "def build_alignement(w2v_lang_1,w2v_lang_2):\n",
    "    #Solve the Procrustes probelm from language 1 to language 2 and give the optimal alinement matrix\n",
    "    intersect = [w for w in w2v_lang_1.word2vec if w in w2v_lang_2.word2vec]\n",
    "    X = np.vstack([w2v_lang_1.word2vec[w] for w in intersect]).T\n",
    "    Y = np.vstack([w2v_lang_2.word2vec[w] for w in intersect]).T\n",
    "    U, s, Vh = la.svd(Y.dot(X.T))\n",
    "    return U.dot(Vh)\n",
    "\n",
    "W = build_alignement(w2v_fr,w2v_en) \n",
    "W_inv = np.linalg.inv(W)"
   ]
  },
  {
   "cell_type": "code",
   "execution_count": 13,
   "metadata": {
    "scrolled": false
   },
   "outputs": [
    {
     "name": "stdout",
     "output_type": "stream",
     "text": [
      "From French to English\n",
      "Most similar words for fort are :  ['fort', 'forts', 'fortification', 'blockhouse', 'fortifications']\n",
      "Most similar words for chat are :  ['cat', 'rabbit', 'hamster', 'feline', 'poodle']\n",
      "Most similar words for manger are :  ['eat', 'meal', 'eating', 'eaten', 'ate']\n",
      "Most similar words for chien are :  ['dog', 'poodle', 'terrier', 'dogs', 'spaniel']\n",
      "Most similar words for toit are :  ['roof', 'roofed', 'roofs', 'mansard', 'balconies']\n",
      "Most similar words for après are :  ['after', 'shortly', 'afterward', 'afterwards', 'ensuing']\n",
      "\n",
      "\n",
      "From English to French\n",
      "Most similar words for real are :  ['real', 'reality', 'personal', 'réel', 'property']\n",
      "Most similar words for learning are :  ['learning', 'education', 'apprentissage', 'apprentissages', 'educational']\n",
      "Most similar words for dog are :  ['dog', 'chien', 'hound', 'chiens', 'chienne']\n",
      "Most similar words for feeling are :  ['sentiment', 'feeling', 'mélancolie', 'sentiments', 'frustration']\n",
      "Most similar words for tedious are :  ['fastidieux', 'pénible', 'compliqué', 'pénibles', 'inutilement']\n",
      "Most similar words for actually are :  ['would', 'should', 'could', 'that', 'really']\n"
     ]
    }
   ],
   "source": [
    "# 4 - After alignment with W, give examples of English nearest neighbors of some French words (and vice versa)\n",
    "#     You will be evaluated on that part and the code above\n",
    "\n",
    "# TYPE CODE HERE\n",
    "\n",
    "print('From French to English')\n",
    "\n",
    "for w in ['fort','chat','manger','chien','toit', 'après']:\n",
    "    emb = np.dot(W, w2v_fr.word2vec[w])\n",
    "    print('Most similar words for %s are : ' %  w, str(w2v_en.most_similar(emb)))\n",
    "    \n",
    "print('\\n')\n",
    "\n",
    "print('From English to French')\n",
    "for w in [ 'real', 'learning','dog' ,'feeling', 'tedious', 'actually']:\n",
    "    emb = np.dot(W_inv, w2v_en.word2vec[w])\n",
    "    print('Most similar words for %s are : ' % w, str(w2v_fr.most_similar(emb)) )\n"
   ]
  },
  {
   "cell_type": "markdown",
   "metadata": {},
   "source": [
    "If you want to dive deeper on this subject: https://github.com/facebookresearch/MUSE"
   ]
  },
  {
   "cell_type": "markdown",
   "metadata": {},
   "source": [
    "# 3) Sentence classification with BoV and scikit-learn"
   ]
  },
  {
   "cell_type": "code",
   "execution_count": 13,
   "metadata": {},
   "outputs": [],
   "source": [
    "# 1 - Load train/dev/test of Stanford Sentiment TreeBank (SST)\n",
    "#     (https://nlp.stanford.edu/~socherr/EMNLP2013_RNTN.pdf)\n",
    "\n",
    "# TYPE CODE HERE\n",
    "def read(file_path,test=False):\n",
    "    #This function allows to read the SST training file\n",
    "    with open(file_path,'r') as f:\n",
    "        lines = f.readlines()\n",
    "    if test:\n",
    "        return([line.split() for line in lines])\n",
    "    else :\n",
    "        #each line is composed of y_train , x_train\n",
    "        return([line.split()[1:] for line in lines],[int(line.split()[0]) for line in lines])\n",
    "\n",
    "\n",
    "x_train,y_train = read(os.path.join(PATH_TO_DATA,'SST','stsa.fine.train'))\n",
    "x_dev,y_dev = read(os.path.join(PATH_TO_DATA,'SST','stsa.fine.dev'))\n",
    "x_test = read(os.path.join(PATH_TO_DATA,'SST','stsa.fine.test.X'),test=True)"
   ]
  },
  {
   "cell_type": "code",
   "execution_count": 14,
   "metadata": {},
   "outputs": [
    {
     "name": "stdout",
     "output_type": "stream",
     "text": [
      "Loaded 250000 pretrained word vectors\n"
     ]
    }
   ],
   "source": [
    "# 2 - Encode sentences with the BoV model above\n",
    "\n",
    "# TYPE CODE HERE\n",
    "w2v = Word2vec(os.path.join(PATH_TO_DATA, 'wiki.en.vec'), nmax=250000)\n",
    "s2v = BoV(w2v)\n",
    "\n",
    "sentences = x_train  + x_dev + x_test\n",
    "idf = {} if False else s2v.build_idf(sentences)\n",
    "\n",
    "x_train_encode = s2v.encode(x_train)\n",
    "\n",
    "x_dev_encode = s2v.encode(x_dev)\n",
    "\n",
    "x_test_encode = s2v.encode(x_test)\n",
    "\n",
    "x_train_encode_idf = s2v.encode(x_train,idf)\n",
    "\n",
    "x_dev_encode_idf = s2v.encode(x_dev,idf)\n",
    "\n",
    "x_test_encode_idf = s2v.encode(x_test,idf)"
   ]
  },
  {
   "cell_type": "code",
   "execution_count": 15,
   "metadata": {},
   "outputs": [
    {
     "name": "stdout",
     "output_type": "stream",
     "text": [
      "train set without idf precision 0.48408239700374533\n",
      "dev set without idf precision 0.407811080835604\n",
      "train set with idf precision 0.47120786516853935\n",
      "dev set with idf precision 0.4014532243415077\n"
     ]
    }
   ],
   "source": [
    "# 3 - Learn Logistic Regression on top of sentence embeddings using scikit-learn\n",
    "#     (consider tuning the L2 regularization on the dev set)\n",
    "\n",
    "\n",
    "# TYPE CODE HERE\n",
    "from sklearn.linear_model import LogisticRegression\n",
    "from sklearn.metrics import accuracy_score\n",
    "from sklearn import preprocessing\n",
    "\n",
    "scaler1 = preprocessing.StandardScaler().fit(x_train_encode)\n",
    "normalized_encoded_train_data = scaler1.transform(x_train_encode)\n",
    "normalized_encoded_valid_data = scaler1.transform(x_dev_encode)\n",
    "\n",
    "\n",
    "scaler2 = preprocessing.StandardScaler().fit(x_train_encode_idf)\n",
    "normalized_encoded_train_data_weighted = scaler2.transform(x_train_encode_idf)\n",
    "normalized_encoded_valid_data_weighted = scaler2.transform(x_dev_encode_idf)\n",
    "\n",
    "#without idf\n",
    "clf = LogisticRegression(penalty='l2', C=0.01,tol=1e-6)\n",
    "clf.fit(normalized_encoded_train_data,y_train)\n",
    "y_dev_predict = clf.predict(normalized_encoded_valid_data)\n",
    "y_train_predict = clf.predict(normalized_encoded_train_data)\n",
    "print ('train set without idf precision', accuracy_score(y_train,y_train_predict))\n",
    "print ('dev set without idf precision', accuracy_score(y_dev,y_dev_predict))\n",
    "\n",
    "#with idf\n",
    "clf_idf = LogisticRegression(penalty='l2', C=0.01,tol=1e-6)\n",
    "clf_idf.fit(normalized_encoded_train_data_weighted,y_train)\n",
    "y_dev_predict_idf = clf_idf.predict(normalized_encoded_valid_data_weighted)\n",
    "y_train_predict_idf = clf_idf.predict(normalized_encoded_train_data_weighted)\n",
    "\n",
    "\n",
    "print ('train set with idf precision', accuracy_score(y_train,y_train_predict_idf))\n",
    "print ('dev set with idf precision', accuracy_score(y_dev,y_dev_predict_idf))\n"
   ]
  },
  {
   "cell_type": "code",
   "execution_count": 16,
   "metadata": {},
   "outputs": [],
   "source": [
    "# 4 - Produce 2210 predictions for the test set (in the same order). One line = one prediction (=0,1,2,3,4).\n",
    "#     Attach the output file \"logreg_bov_y_test_sst.txt\" to your deliverable.\n",
    "#     You will be evaluated on the results of the test set.\n",
    "\n",
    "# TYPE CODE HERE\n",
    "\n",
    "prediction= clf.predict(x_test_encode)\n",
    "lines = '\\n'.join([str(line) for line in prediction])\n",
    "path_output = os.path.join('.',r'logreg_bov_y_test_sst.txt')\n",
    "with open(path_output,'w') as f:\n",
    "        f.writelines(lines)\n"
   ]
  },
  {
   "cell_type": "code",
   "execution_count": 18,
   "metadata": {},
   "outputs": [
    {
     "name": "stdout",
     "output_type": "stream",
     "text": [
      "LGBMC\n"
     ]
    },
    {
     "name": "stderr",
     "output_type": "stream",
     "text": [
      "C:\\Users\\HP\\Anaconda3\\lib\\site-packages\\sklearn\\preprocessing\\label.py:151: DeprecationWarning: The truth value of an empty array is ambiguous. Returning False, but in future this will result in an error. Use `array.size > 0` to check that an array is not empty.\n",
      "  if diff:\n",
      "C:\\Users\\HP\\Anaconda3\\lib\\site-packages\\sklearn\\preprocessing\\label.py:151: DeprecationWarning: The truth value of an empty array is ambiguous. Returning False, but in future this will result in an error. Use `array.size > 0` to check that an array is not empty.\n",
      "  if diff:\n"
     ]
    },
    {
     "name": "stdout",
     "output_type": "stream",
     "text": [
      "  train set without idf precision 0.9774110486891385\n",
      "  dev set without idf precision 0.4069028156221617\n"
     ]
    },
    {
     "name": "stderr",
     "output_type": "stream",
     "text": [
      "C:\\Users\\HP\\Anaconda3\\lib\\site-packages\\sklearn\\preprocessing\\label.py:151: DeprecationWarning: The truth value of an empty array is ambiguous. Returning False, but in future this will result in an error. Use `array.size > 0` to check that an array is not empty.\n",
      "  if diff:\n",
      "C:\\Users\\HP\\Anaconda3\\lib\\site-packages\\sklearn\\preprocessing\\label.py:151: DeprecationWarning: The truth value of an empty array is ambiguous. Returning False, but in future this will result in an error. Use `array.size > 0` to check that an array is not empty.\n",
      "  if diff:\n"
     ]
    },
    {
     "name": "stdout",
     "output_type": "stream",
     "text": [
      "  train set with idf precision 0.9465121722846442\n",
      "  dev set with idf precision 0.36966394187102636\n"
     ]
    }
   ],
   "source": [
    "# BONUS!\n",
    "# 5 - Try to improve performance with another classifier\n",
    "#     Attach the output file \"XXX_bov_y_test_sst.txt\" to your deliverable (where XXX = the name of the classifier)\n",
    "\n",
    "# TYPE CODE HERE\n",
    "from sklearn.ensemble import RandomForestClassifier\n",
    "from xgboost import XGBClassifier\n",
    "from sklearn.svm import SVC\n",
    "from lightgbm import LGBMClassifier\n",
    "\n",
    "\n",
    "#I tried many classifiers and random forests seems to be the best one \n",
    "print('LGBMC')\n",
    "\n",
    "lgb = LGBMClassifier(max_depth=5,n_estimators=300,reg_lambda=0.01) #with early stopping based on val set\n",
    "\n",
    "lgb.fit(x_train_encode,y_train,verbose=False,early_stopping_rounds=30,eval_metric='multi_logloss',eval_set=[(x_train_encode,y_train),(x_dev_encode,y_dev)]) \n",
    "y_dev_predict = lgb.predict(x_dev_encode)\n",
    "y_train_predict = lgb.predict(x_train_encode)\n",
    "\n",
    "print ('  train set without idf precision', accuracy_score(y_train,y_train_predict))\n",
    "print ('  dev set without idf precision', accuracy_score(y_dev,y_dev_predict))\n",
    "\n",
    "       \n",
    "lgb_idf = LGBMClassifier(max_depth=5,n_estimators=300,reg_lambda=0.01) #with early stopping based on val set\n",
    "\n",
    "lgb_idf.fit(x_train_encode_idf,y_train,verbose=False,early_stopping_rounds=30,eval_metric='multi_logloss',eval_set=[(x_train_encode_idf,y_train),(x_dev_encode_idf,y_dev)])\n",
    "y_dev_predict_idf = lgb_idf.predict(x_dev_encode_idf)\n",
    "y_train_predict_idf = lgb_idf.predict(x_train_encode_idf)\n",
    "    \n",
    "print ('  train set with idf precision', accuracy_score(y_train,y_train_predict_idf))\n",
    "print ('  dev set with idf precision', accuracy_score(y_dev,y_dev_predict_idf))\n",
    "\n",
    "prediction= rf.predict(x_test_encode)\n",
    "lines = '\\n'.join([str(line) for line in prediction])\n",
    "path_output = os.path.join('.',r'lgb_bov_y_test_sst.txt')\n",
    "with open(path_output,'w') as f:\n",
    "        f.writelines(lines)\n"
   ]
  },
  {
   "cell_type": "markdown",
   "metadata": {},
   "source": [
    "# 4) Sentence classification with LSTMs in Keras"
   ]
  },
  {
   "cell_type": "markdown",
   "metadata": {},
   "source": [
    "## 4.1 - Preprocessing"
   ]
  },
  {
   "cell_type": "code",
   "execution_count": 41,
   "metadata": {},
   "outputs": [],
   "source": [
    "import keras"
   ]
  },
  {
   "cell_type": "code",
   "execution_count": 43,
   "metadata": {},
   "outputs": [],
   "source": [
    "# 1 - Load train/dev/test sets of SST\n",
    "PATH_TO_DATA = r\"./data/\"\n",
    "\n",
    "# TYPE CODE HERE\n",
    "x_train,y_train_temp = read(os.path.join(PATH_TO_DATA,'SST','stsa.fine.train'))\n",
    "x_dev,y_dev = read(os.path.join(PATH_TO_DATA,'SST','stsa.fine.dev'))\n",
    "x_test = read(os.path.join(PATH_TO_DATA,'SST','stsa.fine.test.X'),test=True)"
   ]
  },
  {
   "cell_type": "code",
   "execution_count": 44,
   "metadata": {},
   "outputs": [],
   "source": [
    "# 2 - Transform text to integers using keras.preprocessing.text.one_hot function\n",
    "#     https://keras.io/preprocessing/text/\n",
    "\n",
    "# TYPE CODE HERE\n",
    "from keras.preprocessing import text\n",
    "from keras.utils import to_categorical\n",
    "vocab=np.ravel(np.array(x_train+x_dev+x_test))\n",
    "n=len(vocab)\n",
    "\n",
    "\n",
    "x_train_one_hot = [text.one_hot(' '.join(x),n) for x in x_train]\n",
    "x_dev_one_hot = [text.one_hot(' '.join(x),n) for x in x_dev]\n",
    "x_test_one_hot = [text.one_hot(' '.join(x),n) for x in x_test]\n",
    "\n",
    "\n",
    "y_train = to_categorical(y_train_temp)\n",
    "y_val = to_categorical(y_dev)"
   ]
  },
  {
   "cell_type": "markdown",
   "metadata": {},
   "source": [
    "**Padding input data**\n",
    "\n",
    "Models in Keras (and elsewhere) take batches of sentences of the same length as input. It is because Deep Learning framework have been designed to handle well Tensors, which are particularly suited for fast computation on the GPU.\n",
    "\n",
    "Since sentences have different sizes, we \"pad\" them. That is, we add dummy \"padding\" tokens so that they all have the same length.\n",
    "\n",
    "The input to a Keras model thus has this size : (batchsize, maxseqlen) where maxseqlen is the maximum length of a sentence in the batch."
   ]
  },
  {
   "cell_type": "code",
   "execution_count": 50,
   "metadata": {},
   "outputs": [],
   "source": [
    "# 3 - Pad your sequences using keras.preprocessing.sequence.pad_sequences\n",
    "#     https://keras.io/preprocessing/sequence/\n",
    "\n",
    "# TYPE CODE HERE\n",
    "from keras.preprocessing.sequence import pad_sequences\n",
    "\n",
    "n_train=len(x_train_one_hot)\n",
    "n_val=len(x_dev_one_hot)\n",
    "pad=pad_sequences(x_train_one_hot+x_dev_one_hot+x_test_one_hot)\n",
    "x_train_pad=pad[:n_train,:]\n",
    "x_val_pad=pad[n_train:n_train+n_val,:]\n",
    "x_test_pad=pad[n_train+n_val:,:]\n",
    "maxseqlen = pad.shape[1]\n"
   ]
  },
  {
   "cell_type": "markdown",
   "metadata": {},
   "source": [
    "## 4.2 - Design and train your model"
   ]
  },
  {
   "cell_type": "code",
   "execution_count": 57,
   "metadata": {},
   "outputs": [
    {
     "name": "stderr",
     "output_type": "stream",
     "text": [
      "C:\\Users\\HP\\Anaconda3\\lib\\site-packages\\ipykernel_launcher.py:20: UserWarning: Update your `LSTM` call to the Keras 2 API: `LSTM(96, dropout=0.2, recurrent_dropout=0.2)`\n"
     ]
    }
   ],
   "source": [
    "# 4 - Design your encoder + classifier using keras.layers\n",
    "#     In Keras, Torch and other deep learning framework, we create a \"container\" which is the Sequential() module.\n",
    "#     Then we add components to this contained : the lookuptable, the LSTM, the classifier etc.\n",
    "#     All of these components are contained in the Sequential() and are trained together.\n",
    "\n",
    "\n",
    "# ADAPT CODE BELOW\n",
    "\n",
    "\n",
    "from keras.models import Sequential\n",
    "from keras.layers import Embedding, LSTM, Dense, Activation\n",
    "\n",
    "embed_dim  = list(w2v_en.word2vec.values())[0].shape[0] #300  # word embedding dimension\n",
    "nhid       = 96  # number of hidden units in the LSTM\n",
    "vocab_size = n  # size of the vocabulary\n",
    "n_classes  = 5\n",
    "\n",
    "model = Sequential()\n",
    "model.add(Embedding(vocab_size, embed_dim))\n",
    "model.add(LSTM(nhid, dropout_W=0.2, dropout_U=0.2))\n",
    "model.add(Dense(n_classes, activation='sigmoid'))\n"
   ]
  },
  {
   "cell_type": "code",
   "execution_count": 58,
   "metadata": {},
   "outputs": [
    {
     "name": "stdout",
     "output_type": "stream",
     "text": [
      "_________________________________________________________________\n",
      "Layer (type)                 Output Shape              Param #   \n",
      "=================================================================\n",
      "embedding_9 (Embedding)      (None, None, 300)         3556500   \n",
      "_________________________________________________________________\n",
      "lstm_9 (LSTM)                (None, 96)                152448    \n",
      "_________________________________________________________________\n",
      "dense_9 (Dense)              (None, 5)                 485       \n",
      "=================================================================\n",
      "Total params: 3,709,433\n",
      "Trainable params: 3,709,433\n",
      "Non-trainable params: 0\n",
      "_________________________________________________________________\n",
      "None\n"
     ]
    }
   ],
   "source": [
    "# 5 - Define your loss/optimizer/metrics\n",
    "\n",
    "# MODIFY CODE BELOW\n",
    "from keras import optimizers\n",
    "\n",
    "loss_classif     =  'categorical_crossentropy' # find the right loss for multi-class classification\n",
    "optimizer        =  optimizers.RMSprop(lr=0.01, rho=0.9, epsilon=None, decay=0.0) # find the right optimizer\n",
    "metrics_classif  =  ['accuracy']\n",
    "\n",
    "# Observe how easy (but blackboxed) this is in Keras\n",
    "model.compile(loss=loss_classif,\n",
    "              optimizer=optimizer,\n",
    "              metrics=metrics_classif)\n",
    "print(model.summary())"
   ]
  },
  {
   "cell_type": "code",
   "execution_count": 59,
   "metadata": {},
   "outputs": [
    {
     "name": "stdout",
     "output_type": "stream",
     "text": [
      "Train on 8544 samples, validate on 1101 samples\n",
      "Epoch 1/6\n",
      "8544/8544 [==============================] - 41s 5ms/step - loss: 1.4875 - acc: 0.3385 - val_loss: 1.3790 - val_acc: 0.3860\n",
      "Epoch 2/6\n",
      "8544/8544 [==============================] - 37s 4ms/step - loss: 1.1501 - acc: 0.4950 - val_loss: 1.4348 - val_acc: 0.4087\n",
      "Epoch 3/6\n",
      "8544/8544 [==============================] - 37s 4ms/step - loss: 0.7951 - acc: 0.6879 - val_loss: 1.7132 - val_acc: 0.3733\n",
      "Epoch 4/6\n",
      "8544/8544 [==============================] - 37s 4ms/step - loss: 0.4915 - acc: 0.8159 - val_loss: 2.1568 - val_acc: 0.3678\n",
      "Epoch 5/6\n",
      "8544/8544 [==============================] - 37s 4ms/step - loss: 0.2946 - acc: 0.8943 - val_loss: 2.5684 - val_acc: 0.3579\n",
      "Epoch 6/6\n",
      "8544/8544 [==============================] - 37s 4ms/step - loss: 0.1696 - acc: 0.9393 - val_loss: 3.0256 - val_acc: 0.3669\n"
     ]
    },
    {
     "data": {
      "text/plain": [
       "<Figure size 432x288 with 0 Axes>"
      ]
     },
     "metadata": {},
     "output_type": "display_data"
    },
    {
     "data": {
      "image/png": "[encoded data removed]",
      "text/plain": [
       "<Figure size 1152x216 with 2 Axes>"
      ]
     },
     "metadata": {},
     "output_type": "display_data"
    }
   ],
   "source": [
    "# 6 - Train your model and find the best hyperparameters for your dev set\n",
    "#     you will be evaluated on the quality of your predictions on the test set\n",
    "\n",
    "# ADAPT CODE BELOW\n",
    "from keras.callbacks import ModelCheckpoint\n",
    "\n",
    "bs = 64\n",
    "n_epochs = 6\n",
    "\n",
    "\n",
    "\n",
    "def plot_acc_loss(history):\n",
    "    plt.figure(1)  \n",
    "    plt.figure(figsize=(16,3))\n",
    "    plt.subplot(121)\n",
    "    plt.plot(history.history['acc'])\n",
    "    plt.plot(history.history['val_acc'])\n",
    "    plt.title('model accuracy ' )\n",
    "    plt.ylabel('accuracy')\n",
    "    plt.xlabel('epoch')\n",
    "    plt.legend(['train', 'test'])\n",
    "   \n",
    "    plt.subplot(122)\n",
    "    plt.plot(history.history['loss'])\n",
    "    plt.plot(history.history['val_loss'])\n",
    "    plt.title('model loss')\n",
    "    plt.ylabel('loss')\n",
    "    plt.xlabel('epoch')\n",
    "    plt.legend(['train', 'test'])\n",
    "    plt.show()\n",
    "mcp1 = ModelCheckpoint('weights.best.hdf5', monitor=\"val_acc\",save_best_only=True, save_weights_only=False)\n",
    "history = model.fit(x_train_pad, y_train, batch_size=bs, epochs=n_epochs, validation_data=(x_val_pad, y_val), callbacks = [mcp1])\n",
    "plot_acc_loss(history)"
   ]
  },
  {
   "cell_type": "code",
   "execution_count": 60,
   "metadata": {},
   "outputs": [],
   "source": [
    "# 7 - Generate your predictions on the test set using model.predict(x_test)\n",
    "#     https://keras.io/models/model/\n",
    "#     Log your predictions in a file (one line = one integer: 0,1,2,3,4)\n",
    "#     Attach the output file \"logreg_lstm_y_test_sst.txt\" to your deliverable.\n",
    "\n",
    "# TYPE CODE HERE\n",
    "model = keras.models.load_model('weights.best.hdf5') \n",
    "y_test_one_hot = model.predict(x_test_pad)\n",
    "y_test_predict = [np.argmax(y) for y in y_test_one_hot]\n",
    "\n",
    "path_output = os.path.join('.',r'logreg_lstm_y_test_sst.txt')\n",
    "lines = '\\n'.join([str(line) for line in y_test_predict])\n",
    "with open(path_output,'w') as f:\n",
    "    f.writelines(lines)\n",
    "\n"
   ]
  },
  {
   "cell_type": "markdown",
   "metadata": {},
   "source": [
    "## 4.3 -- innovate !"
   ]
  },
  {
   "cell_type": "code",
   "execution_count": 72,
   "metadata": {
    "scrolled": false
   },
   "outputs": [
    {
     "name": "stdout",
     "output_type": "stream",
     "text": [
      "Loaded 200000 pretrained word vectors\n",
      "_________________________________________________________________\n",
      "Layer (type)                 Output Shape              Param #   \n",
      "=================================================================\n",
      "embedding_21 (Embedding)     (None, 52, 300)           3556500   \n",
      "_________________________________________________________________\n",
      "conv1d_12 (Conv1D)           (None, 52, 32)            28832     \n",
      "_________________________________________________________________\n",
      "max_pooling1d_12 (MaxPooling (None, 26, 32)            0         \n",
      "_________________________________________________________________\n",
      "lstm_21 (LSTM)               (None, 96)                49536     \n",
      "_________________________________________________________________\n",
      "dense_21 (Dense)             (None, 5)                 485       \n",
      "=================================================================\n",
      "Total params: 3,635,353\n",
      "Trainable params: 3,635,353\n",
      "Non-trainable params: 0\n",
      "_________________________________________________________________\n",
      "None\n",
      "Train on 8544 samples, validate on 1101 samples\n",
      "Epoch 1/8\n",
      "8544/8544 [==============================] - 31s 4ms/step - loss: 1.5125 - acc: 0.3195 - val_loss: 1.4040 - val_acc: 0.3651\n",
      "Epoch 2/8\n",
      "8544/8544 [==============================] - 27s 3ms/step - loss: 1.2927 - acc: 0.4215 - val_loss: 1.4130 - val_acc: 0.3824\n",
      "Epoch 3/8\n",
      "8544/8544 [==============================] - 27s 3ms/step - loss: 1.1224 - acc: 0.4951 - val_loss: 1.5087 - val_acc: 0.3942\n",
      "Epoch 4/8\n",
      "8544/8544 [==============================] - 27s 3ms/step - loss: 0.9446 - acc: 0.6010 - val_loss: 1.8178 - val_acc: 0.3497\n",
      "Epoch 5/8\n",
      "8544/8544 [==============================] - 27s 3ms/step - loss: 0.7481 - acc: 0.7065 - val_loss: 1.9959 - val_acc: 0.3588\n",
      "Epoch 6/8\n",
      "8544/8544 [==============================] - 27s 3ms/step - loss: 0.6161 - acc: 0.7674 - val_loss: 2.3482 - val_acc: 0.3560\n",
      "Epoch 7/8\n",
      "8544/8544 [==============================] - 27s 3ms/step - loss: 0.5042 - acc: 0.8097 - val_loss: 2.3277 - val_acc: 0.3479\n",
      "Epoch 8/8\n",
      "8544/8544 [==============================] - 28s 3ms/step - loss: 0.4280 - acc: 0.8454 - val_loss: 2.3717 - val_acc: 0.3460\n"
     ]
    }
   ],
   "source": [
    "# 8 - Open question: find a model that is better on your dev set\n",
    "#     (e.g: use a 1D ConvNet, use a better classifier, pretrain your lookup tables ..)\n",
    "#     you will get point if the results on the test set are better: be careful of not overfitting your dev set too much..\n",
    "#     Attach the output file \"XXX_XXX_y_test_sst.txt\" to your deliverable.\n",
    "\n",
    "# TYPE CODE HERE\n",
    "from keras.models import Sequential\n",
    "from keras.layers import Embedding, LSTM, Dense, Activation,Dropout,Conv1D,Flatten, GlobalAveragePooling1D, MaxPooling1D\n",
    "from keras.layers import Bidirectional \n",
    "from keras.optimizers import RMSprop\n",
    "from keras import backend as K\n",
    "from keras.callbacks import ModelCheckpoint\n",
    "from keras.preprocessing import text\n",
    "from keras.utils import to_categorical\n",
    "from keras.preprocessing.sequence import pad_sequences\n",
    "\n",
    "# 1 - Load train/dev/test sets of SST\n",
    "PATH_TO_DATA = r\"./data/\"\n",
    "\n",
    "\n",
    "x_train,y_train_temp = read(os.path.join(PATH_TO_DATA,'SST','stsa.fine.train'))\n",
    "x_dev,y_dev_temp = read(os.path.join(PATH_TO_DATA,'SST','stsa.fine.dev'))\n",
    "x_test = read(os.path.join(PATH_TO_DATA,'SST','stsa.fine.test.X'),test=True)\n",
    "\n",
    "vocab=np.ravel(np.array(x_train+x_dev+x_test))\n",
    "n=len(vocab)\n",
    "\n",
    "# 2 - Transform text to integers using keras.preprocessing.text.one_hot function\n",
    "x_train_one_hot = [text.one_hot(' '.join(x),n) for x in x_train]\n",
    "x_dev_one_hot = [text.one_hot(' '.join(x),n) for x in x_dev]\n",
    "x_test_one_hot = [text.one_hot(' '.join(x),n) for x in x_test]\n",
    "\n",
    "y_train = to_categorical(y_train_temp)\n",
    "y_val = to_categorical(y_dev_temp)\n",
    "\n",
    "\n",
    "\n",
    "# 3 - Pad your sequences using keras.preprocessing.sequence.pad_sequences\n",
    "n_train=len(x_train_one_hot)\n",
    "n_val=len(x_dev_one_hot)\n",
    "pad=pad_sequences(x_train_one_hot+x_dev_one_hot+x_test_one_hot)\n",
    "x_train_pad=pad[:n_train,:]\n",
    "x_val_pad=pad[n_train:n_train+n_val,:]\n",
    "x_test_pad=pad[n_train+n_val:,:]\n",
    "maxseqlen = pad.shape[1]\n",
    "\n",
    "# 4 - Design your encoder + classifier using keras.layers\n",
    "embed_dim  = 300  # word embedding dimension\n",
    "vocab_size = n # size of the vocabulary\n",
    "n_classes  = 5\n",
    "\n",
    "list_w = set([w for sent in (x_train+x_dev+x_test) for w in sent ])\n",
    "embedding_matrix = np.zeros((vocab_size, embed_dim))\n",
    "w2v = Word2vec(os.path.join(PATH_TO_DATA, 'crawl-300d-200k.vec'), nmax=10000000)\n",
    "for w in list_w:\n",
    "    if w in w2v.word2vec:\n",
    "        embedding_matrix[text.one_hot(' '.join(w),vocab_size)] = w2v.word2vec[w]\n",
    "\n",
    "\n",
    "mcp1 = ModelCheckpoint('weights.best_innovate.hdf5', monitor=\"val_acc\",save_best_only=True, save_weights_only=False)\n",
    "\n",
    "model = Sequential()\n",
    "model.add(Embedding(vocab_size,embed_dim,input_length=maxseqlen,weights=[embedding_matrix]))\n",
    "model.add(Conv1D(filters=32, kernel_size=3, padding='same', activation='relu'))\n",
    "model.add(MaxPooling1D(pool_size=2))\n",
    "model.add(LSTM(96,dropout=0.2, recurrent_dropout=0.2))\n",
    "model.add(Dense(n_classes, activation='sigmoid'))\n",
    "\n",
    "\n",
    "#model = Sequential()\n",
    "#model.add(Embedding(vocab_size,embed_dim,weights=[embedding_matrix]))\n",
    "#model.add(Conv1D(64, 3, activation='relu', input_shape=(vocab_size, embed_dim)))\n",
    "#model.add(Conv1D(64, 3, activation='relu'))\n",
    "#model.add(MaxPooling1D(3))\n",
    "#model.add(Conv1D(128, 3, activation='relu'))\n",
    "#model.add(Conv1D(128, 3, activation='relu'))\n",
    "#model.add(GlobalAveragePooling1D())\n",
    "#model.add(Dropout(0.2))\n",
    "#model.add(Dense(n_classes, activation='sigmoid'))\n",
    "\n",
    "model.compile(loss='categorical_crossentropy',\n",
    "              optimizer=optimizers.RMSprop(lr=0.01, rho=0.9, epsilon=None, decay=0.0),\n",
    "              metrics=['accuracy'])\n",
    "\n",
    "print(model.summary())\n",
    "bs = 64\n",
    "n_epochs = 8\n",
    "\n",
    "\n",
    "history = model.fit((x_train_pad), y_train, batch_size=bs, epochs=n_epochs, validation_data=((x_val_pad), y_val),callbacks = [mcp1])\n",
    "\n",
    "y_test_one_hot = model.predict(x_test_pad)\n",
    "y_test_predict = [np.argmax(y) for y in y_test_one_hot]\n",
    "\n",
    "path_output = os.path.join('.',r'conv1d_y_test_sst.txt')\n",
    "lines = '\\n'.join([str(line) for line in y_test_predict])\n",
    "with open(path_output,'w') as f:\n",
    "    f.writelines(lines)"
   ]
  }
 ],
 "metadata": {
  "kernelspec": {
   "display_name": "Python 3",
   "language": "python",
   "name": "python3"
  },
  "language_info": {
   "codemirror_mode": {
    "name": "ipython",
    "version": 3
   },
   "file_extension": ".py",
   "mimetype": "text/x-python",
   "name": "python",
   "nbconvert_exporter": "python",
   "pygments_lexer": "ipython3",
   "version": "3.6.5"
  }
 },
 "nbformat": 4,
 "nbformat_minor": 1
}
